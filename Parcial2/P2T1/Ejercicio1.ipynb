{
  "nbformat": 4,
  "nbformat_minor": 0,
  "metadata": {
    "colab": {
      "name": "Ejercicio1.ipynb",
      "provenance": [],
      "collapsed_sections": []
    },
    "kernelspec": {
      "name": "python3",
      "display_name": "Python 3"
    },
    "language_info": {
      "name": "python"
    }
  },
  "cells": [
    {
      "cell_type": "markdown",
      "metadata": {
        "id": "LqEbi7q61qFv"
      },
      "source": [
        "### Archivo 1: Funciones Externas"
      ]
    },
    {
      "cell_type": "code",
      "metadata": {
        "id": "N39a8_7_1qs1"
      },
      "source": [
        "#Declaracion de Funciones\n",
        "\n",
        "#Funcion sin parametros\n",
        "def funcion1 ():\n",
        "    #Contenido de la funcion\n",
        "    print ('Haz llamado a la funcion 1')\n",
        "\n",
        "\n",
        "#Funcion con parametros y retorno\n",
        "def funcion2 (a,b):\n",
        "    #Contenido de la funcion\n",
        "    c= int(a) + int(b)\n",
        "    return c"
      ],
      "execution_count": 13,
      "outputs": []
    },
    {
      "cell_type": "markdown",
      "metadata": {
        "id": "wJSGtcR-1zl5"
      },
      "source": [
        "### Archivo 2: Llamado de Funciones"
      ]
    },
    {
      "cell_type": "code",
      "metadata": {
        "colab": {
          "base_uri": "https://localhost:8080/"
        },
        "id": "9-JhDQ3I0ZK6",
        "outputId": "e6755480-2c1a-43ec-b0de-d17c9e6a3975"
      },
      "source": [
        "#Llamamons las funciones declaradas en otro archivo\n",
        "#import FuncionesExternas as F\n",
        "\n",
        "#Invocamos las funciones\n",
        "funcion1()\n",
        "#Invocamos la otra función\n",
        "Q=input(\"Introduzca un dato: \")\n",
        "W=input(\"Introduzca otro dato: \")\n",
        "print(funcion2(Q,W))"
      ],
      "execution_count": 14,
      "outputs": [
        {
          "output_type": "stream",
          "text": [
            "Haz llamado a la funcion 1\n",
            "Introduzca un dato: 33\n",
            "Introduzca otro dato: 66\n",
            "99\n"
          ],
          "name": "stdout"
        }
      ]
    }
  ]
}