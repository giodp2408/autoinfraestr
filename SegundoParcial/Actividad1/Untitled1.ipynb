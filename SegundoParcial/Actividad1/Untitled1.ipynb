{
  "nbformat": 4,
  "nbformat_minor": 0,
  "metadata": {
    "colab": {
      "name": "Untitled1.ipynb",
      "provenance": []
    },
    "kernelspec": {
      "name": "python3",
      "display_name": "Python 3"
    },
    "language_info": {
      "name": "python"
    }
  },
  "cells": [
    {
      "cell_type": "code",
      "metadata": {
        "colab": {
          "base_uri": "https://localhost:8080/"
        },
        "id": "fyOxPhj-tRc3",
        "outputId": "de9b441a-5b09-4f6b-ede8-c485ec9800ac"
      },
      "source": [
        "print(\"xD\")"
      ],
      "execution_count": 1,
      "outputs": [
        {
          "output_type": "stream",
          "text": [
            "xD\n"
          ],
          "name": "stdout"
        }
      ]
    }
  ]
}